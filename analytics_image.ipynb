{
 "cells": [
  {
   "cell_type": "code",
   "execution_count": 1,
   "metadata": {},
   "outputs": [],
   "source": [
    "import warnings\n",
    "warnings.filterwarnings('ignore')"
   ]
  },
  {
   "cell_type": "code",
   "execution_count": 2,
   "metadata": {},
   "outputs": [
    {
     "name": "stderr",
     "output_type": "stream",
     "text": [
      "Using TensorFlow backend.\n"
     ]
    }
   ],
   "source": [
    "import pandas as pd\n",
    "import numpy as np\n",
    "from tqdm.notebook import tqdm\n",
    "import matplotlib.pyplot as plt\n",
    "import matplotlib\n",
    "import seaborn as sns\n",
    "from collections import Counter\n",
    "import os\n",
    "import sys\n",
    "import re\n",
    "import cv2\n",
    "from sklearn.model_selection import train_test_split\n",
    "from sklearn.metrics import roc_auc_score, accuracy_score, confusion_matrix\n",
    "\n",
    "import keras\n",
    "from keras.models import Sequential\n",
    "from keras.layers import Conv2D, Dense, ReLU, Dropout, Flatten, MaxPool2D\n",
    "from keras.utils import to_categorical\n",
    "from keras.optimizers import Adam"
   ]
  },
  {
   "cell_type": "code",
   "execution_count": 3,
   "metadata": {},
   "outputs": [],
   "source": [
    "tqdm.pandas()\n",
    "pd.set_option('display.max_columns', 50)\n",
    "pd.set_option('display.max_rows', 150)\n",
    "from matplotlib import rcParams\n",
    "rcParams['font.family'] = 'sans-serif'\n",
    "rcParams['font.sans-serif'] = ['Hiragino Maru Gothic Pro', 'Yu Gothic', 'Meirio', 'Takao', 'IPAexGothic', 'IPAPGothic', 'VL PGothic', 'Noto Sans CJK JP']"
   ]
  },
  {
   "cell_type": "code",
   "execution_count": 4,
   "metadata": {},
   "outputs": [],
   "source": [
    "filePath = \"data/tinder.xlsx\"\n",
    "imagePath = \"data/photos\""
   ]
  },
  {
   "cell_type": "code",
   "execution_count": 5,
   "metadata": {},
   "outputs": [],
   "source": [
    "df = pd.read_excel(filePath)\n",
    "df.drop_duplicates(inplace=True, subset=\"id\")\n",
    "df.set_index(\"id\", inplace=True)\n",
    "df[\"bio\"] = df[\"bio\"].fillna(\"\")"
   ]
  },
  {
   "cell_type": "code",
   "execution_count": 6,
   "metadata": {},
   "outputs": [
    {
     "data": {
      "application/vnd.jupyter.widget-view+json": {
       "model_id": "49e503dd00144f67ab1c66517aceee06",
       "version_major": 2,
       "version_minor": 0
      },
      "text/plain": [
       "HBox(children=(IntProgress(value=0, max=26455), HTML(value='')))"
      ]
     },
     "metadata": {},
     "output_type": "display_data"
    },
    {
     "name": "stdout",
     "output_type": "stream",
     "text": [
      "\n"
     ]
    }
   ],
   "source": [
    "X=[]\n",
    "y=[]\n",
    "for fileName in tqdm(os.listdir(imagePath)):\n",
    "    try:\n",
    "        id_ = re.match(\"([a-z0-9]*)-\\d( \\(\\d\\))?.jpg\",fileName).group(1)\n",
    "        match = df.loc[id_][\"match\"]\n",
    "        filePath = os.path.join(imagePath, fileName)\n",
    "        img = cv2.imread(filePath)\n",
    "        img = cv2.resize(img, (120,120))\n",
    "        X.append(img)\n",
    "        y.append(match)\n",
    "    except:\n",
    "        pass\n",
    "X=np.asarray(X)\n",
    "y=np.asarray(y)"
   ]
  },
  {
   "cell_type": "code",
   "execution_count": 7,
   "metadata": {},
   "outputs": [],
   "source": [
    "X=(X/255).astype(np.float16)"
   ]
  },
  {
   "cell_type": "code",
   "execution_count": 8,
   "metadata": {},
   "outputs": [],
   "source": [
    "X_train, X_test, y_train, y_test = train_test_split(X, y, random_state=8888)"
   ]
  },
  {
   "cell_type": "code",
   "execution_count": 9,
   "metadata": {},
   "outputs": [],
   "source": [
    "def getModel():\n",
    "    model=Sequential()\n",
    "    model.add(Conv2D(3,3,input_shape=(120,120,3)))\n",
    "    model.add(ReLU())\n",
    "    model.add(MaxPool2D((2,2)))\n",
    "    model.add(Dropout(0.25))\n",
    "    model.add(Conv2D(3,3,padding=\"same\"))\n",
    "    model.add(ReLU())\n",
    "    model.add(MaxPool2D((2,2)))\n",
    "    model.add(Dropout(0.25))\n",
    "    model.add(Flatten())\n",
    "    model.add(Dense(1024))\n",
    "    model.add(Dense(2,activation=\"softmax\"))\n",
    "    return model"
   ]
  },
  {
   "cell_type": "code",
   "execution_count": 10,
   "metadata": {},
   "outputs": [],
   "source": [
    "model = getModel()"
   ]
  },
  {
   "cell_type": "code",
   "execution_count": 11,
   "metadata": {},
   "outputs": [
    {
     "name": "stdout",
     "output_type": "stream",
     "text": [
      "Model: \"sequential_1\"\n",
      "_________________________________________________________________\n",
      "Layer (type)                 Output Shape              Param #   \n",
      "=================================================================\n",
      "conv2d_1 (Conv2D)            (None, 118, 118, 3)       84        \n",
      "_________________________________________________________________\n",
      "re_lu_1 (ReLU)               (None, 118, 118, 3)       0         \n",
      "_________________________________________________________________\n",
      "max_pooling2d_1 (MaxPooling2 (None, 59, 59, 3)         0         \n",
      "_________________________________________________________________\n",
      "dropout_1 (Dropout)          (None, 59, 59, 3)         0         \n",
      "_________________________________________________________________\n",
      "conv2d_2 (Conv2D)            (None, 59, 59, 3)         84        \n",
      "_________________________________________________________________\n",
      "re_lu_2 (ReLU)               (None, 59, 59, 3)         0         \n",
      "_________________________________________________________________\n",
      "max_pooling2d_2 (MaxPooling2 (None, 29, 29, 3)         0         \n",
      "_________________________________________________________________\n",
      "dropout_2 (Dropout)          (None, 29, 29, 3)         0         \n",
      "_________________________________________________________________\n",
      "flatten_1 (Flatten)          (None, 2523)              0         \n",
      "_________________________________________________________________\n",
      "dense_1 (Dense)              (None, 1024)              2584576   \n",
      "_________________________________________________________________\n",
      "dense_2 (Dense)              (None, 2)                 2050      \n",
      "=================================================================\n",
      "Total params: 2,586,794\n",
      "Trainable params: 2,586,794\n",
      "Non-trainable params: 0\n",
      "_________________________________________________________________\n"
     ]
    }
   ],
   "source": [
    "model.summary()"
   ]
  },
  {
   "cell_type": "code",
   "execution_count": 12,
   "metadata": {},
   "outputs": [],
   "source": [
    "model.compile(optimizer=Adam(), loss='categorical_crossentropy', metrics=[\"accuracy\"])"
   ]
  },
  {
   "cell_type": "code",
   "execution_count": 13,
   "metadata": {},
   "outputs": [
    {
     "name": "stdout",
     "output_type": "stream",
     "text": [
      "Train on 19473 samples, validate on 6491 samples\n",
      "Epoch 1/30\n",
      "19473/19473 [==============================] - 160s 8ms/step - loss: 0.0556 - accuracy: 0.9929 - val_loss: 0.0763 - val_accuracy: 0.9915\n",
      "Epoch 2/30\n",
      "19473/19473 [==============================] - 134s 7ms/step - loss: 0.0433 - accuracy: 0.9931 - val_loss: 0.0547 - val_accuracy: 0.9915\n",
      "Epoch 3/30\n",
      "19473/19473 [==============================] - 132s 7ms/step - loss: 0.0424 - accuracy: 0.9930 - val_loss: 0.0566 - val_accuracy: 0.9915\n",
      "Epoch 4/30\n",
      "19473/19473 [==============================] - 142s 7ms/step - loss: 0.0393 - accuracy: 0.9929 - val_loss: 0.0511 - val_accuracy: 0.9915\n",
      "Epoch 5/30\n",
      "19473/19473 [==============================] - 131s 7ms/step - loss: 0.0354 - accuracy: 0.9930 - val_loss: 0.0528 - val_accuracy: 0.9915\n",
      "Epoch 6/30\n",
      "19473/19473 [==============================] - 131s 7ms/step - loss: 0.0350 - accuracy: 0.9930 - val_loss: 0.0512 - val_accuracy: 0.9915\n",
      "Epoch 7/30\n",
      "19473/19473 [==============================] - 137s 7ms/step - loss: 0.0334 - accuracy: 0.9933 - val_loss: 0.0524 - val_accuracy: 0.9915\n",
      "Epoch 8/30\n",
      "19473/19473 [==============================] - 136s 7ms/step - loss: 0.0316 - accuracy: 0.9932 - val_loss: 0.0550 - val_accuracy: 0.9915\n",
      "Epoch 9/30\n",
      "19473/19473 [==============================] - 109s 6ms/step - loss: 0.0305 - accuracy: 0.9930 - val_loss: 0.0605 - val_accuracy: 0.9915\n",
      "Epoch 10/30\n",
      "19473/19473 [==============================] - 108s 6ms/step - loss: 0.0307 - accuracy: 0.9932 - val_loss: 0.0555 - val_accuracy: 0.9915\n",
      "Epoch 11/30\n",
      "19473/19473 [==============================] - 108s 6ms/step - loss: 0.0278 - accuracy: 0.9934 - val_loss: 0.0635 - val_accuracy: 0.9915\n",
      "Epoch 12/30\n",
      "19473/19473 [==============================] - 117s 6ms/step - loss: 0.0278 - accuracy: 0.9937 - val_loss: 0.0582 - val_accuracy: 0.9914\n",
      "Epoch 13/30\n",
      "19473/19473 [==============================] - 107s 5ms/step - loss: 0.0263 - accuracy: 0.9939 - val_loss: 0.0670 - val_accuracy: 0.9915\n",
      "Epoch 14/30\n",
      "19473/19473 [==============================] - 106s 5ms/step - loss: 0.0251 - accuracy: 0.9939 - val_loss: 0.0588 - val_accuracy: 0.9915\n",
      "Epoch 15/30\n",
      "19473/19473 [==============================] - 111s 6ms/step - loss: 0.0255 - accuracy: 0.9939 - val_loss: 0.0687 - val_accuracy: 0.9914\n",
      "Epoch 16/30\n",
      "19473/19473 [==============================] - 107s 5ms/step - loss: 0.0255 - accuracy: 0.9939 - val_loss: 0.0609 - val_accuracy: 0.9915\n",
      "Epoch 17/30\n",
      "19473/19473 [==============================] - 105s 5ms/step - loss: 0.0238 - accuracy: 0.9942 - val_loss: 0.0638 - val_accuracy: 0.9915\n",
      "Epoch 18/30\n",
      "19473/19473 [==============================] - 144s 7ms/step - loss: 0.0241 - accuracy: 0.9937 - val_loss: 0.0587 - val_accuracy: 0.9914\n",
      "Epoch 19/30\n",
      "19473/19473 [==============================] - 115s 6ms/step - loss: 0.0251 - accuracy: 0.9939 - val_loss: 0.0686 - val_accuracy: 0.9914\n",
      "Epoch 20/30\n",
      "19473/19473 [==============================] - 103s 5ms/step - loss: 0.0238 - accuracy: 0.9944 - val_loss: 0.0631 - val_accuracy: 0.9915\n",
      "Epoch 21/30\n",
      "19473/19473 [==============================] - 105s 5ms/step - loss: 0.0247 - accuracy: 0.9938 - val_loss: 0.0589 - val_accuracy: 0.9914\n",
      "Epoch 22/30\n",
      "19473/19473 [==============================] - 104s 5ms/step - loss: 0.0237 - accuracy: 0.9941 - val_loss: 0.0601 - val_accuracy: 0.9915\n",
      "Epoch 23/30\n",
      "19473/19473 [==============================] - 106s 5ms/step - loss: 0.0212 - accuracy: 0.9945 - val_loss: 0.0604 - val_accuracy: 0.9915\n",
      "Epoch 24/30\n",
      "19473/19473 [==============================] - 106s 5ms/step - loss: 0.0225 - accuracy: 0.9939 - val_loss: 0.0712 - val_accuracy: 0.9914\n",
      "Epoch 25/30\n",
      "19473/19473 [==============================] - 105s 5ms/step - loss: 0.0233 - accuracy: 0.9941 - val_loss: 0.0771 - val_accuracy: 0.9914\n",
      "Epoch 26/30\n",
      "19473/19473 [==============================] - 106s 5ms/step - loss: 0.0238 - accuracy: 0.9938 - val_loss: 0.0700 - val_accuracy: 0.9914\n",
      "Epoch 27/30\n",
      "19473/19473 [==============================] - 106s 5ms/step - loss: 0.0237 - accuracy: 0.9933 - val_loss: 0.0649 - val_accuracy: 0.9915\n",
      "Epoch 28/30\n",
      "19473/19473 [==============================] - 106s 5ms/step - loss: 0.0236 - accuracy: 0.9936 - val_loss: 0.0659 - val_accuracy: 0.9915\n",
      "Epoch 29/30\n",
      "19473/19473 [==============================] - 104s 5ms/step - loss: 0.0215 - accuracy: 0.9941 - val_loss: 0.0704 - val_accuracy: 0.9915\n",
      "Epoch 30/30\n",
      "19473/19473 [==============================] - 105s 5ms/step - loss: 0.0224 - accuracy: 0.9942 - val_loss: 0.0763 - val_accuracy: 0.9915\n"
     ]
    },
    {
     "data": {
      "text/plain": [
       "<keras.callbacks.callbacks.History at 0x143e84e10>"
      ]
     },
     "execution_count": 13,
     "metadata": {},
     "output_type": "execute_result"
    }
   ],
   "source": [
    "model.fit(X_train, to_categorical(y_train), epochs=30, validation_data=(X_test, to_categorical(y_test)))"
   ]
  },
  {
   "cell_type": "code",
   "execution_count": 14,
   "metadata": {},
   "outputs": [],
   "source": [
    "y_pred=model.predict(X_test)"
   ]
  },
  {
   "cell_type": "code",
   "execution_count": 15,
   "metadata": {},
   "outputs": [],
   "source": [
    "y_pred=np.exp(y_pred)\n",
    "y_pred=(y_pred/np.sum(y_pred,axis=1).reshape(-1,1))[:,1]"
   ]
  },
  {
   "cell_type": "code",
   "execution_count": 16,
   "metadata": {},
   "outputs": [
    {
     "data": {
      "text/plain": [
       "0.5116927510028815"
      ]
     },
     "execution_count": 16,
     "metadata": {},
     "output_type": "execute_result"
    }
   ],
   "source": [
    "roc_auc_score(y_test,y_pred)"
   ]
  }
 ],
 "metadata": {
  "kernelspec": {
   "display_name": "Python 3",
   "language": "python",
   "name": "python3"
  },
  "language_info": {
   "codemirror_mode": {
    "name": "ipython",
    "version": 3
   },
   "file_extension": ".py",
   "mimetype": "text/x-python",
   "name": "python",
   "nbconvert_exporter": "python",
   "pygments_lexer": "ipython3",
   "version": "3.7.5"
  }
 },
 "nbformat": 4,
 "nbformat_minor": 2
}
