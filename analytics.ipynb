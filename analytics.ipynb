{
 "cells": [
  {
   "cell_type": "code",
   "execution_count": 1,
   "metadata": {},
   "outputs": [],
   "source": [
    "import warnings\n",
    "warnings.filterwarnings('ignore')"
   ]
  },
  {
   "cell_type": "code",
   "execution_count": 2,
   "metadata": {},
   "outputs": [
    {
     "name": "stderr",
     "output_type": "stream",
     "text": [
      "Using TensorFlow backend.\n"
     ]
    }
   ],
   "source": [
    "import pandas as pd\n",
    "import numpy as np\n",
    "from tqdm.notebook import tqdm\n",
    "import matplotlib.pyplot as plt\n",
    "import matplotlib\n",
    "import seaborn as sns\n",
    "from collections import Counter\n",
    "import os\n",
    "import sys\n",
    "import re\n",
    "import subprocess\n",
    "import MeCab\n",
    "import glob\n",
    "import xgboost as xgb\n",
    "import cv2\n",
    "from multiprocessing import Pool\n",
    "import copy\n",
    "\n",
    "from sklearn.preprocessing import StandardScaler\n",
    "from sklearn.metrics import roc_auc_score\n",
    "from sklearn.model_selection import train_test_split\n",
    "from sklearn.pipeline import make_pipeline\n",
    "from sklearn.ensemble import RandomForestRegressor\n",
    "from sklearn.svm import SVR\n",
    "\n",
    "from gensim.models.doc2vec import Doc2Vec\n",
    "from gensim.models.doc2vec import TaggedDocument\n",
    "\n",
    "import keras\n",
    "from keras.layers import Dense, GlobalAveragePooling2D\n",
    "from keras.utils import to_categorical\n",
    "from keras.optimizers import Adam\n",
    "from keras.applications.vgg16 import VGG16\n",
    "from keras.models import Model\n",
    "import tensorflow as tf"
   ]
  },
  {
   "cell_type": "code",
   "execution_count": 3,
   "metadata": {},
   "outputs": [],
   "source": [
    "tqdm.pandas()\n",
    "pd.set_option('display.max_columns', 50)\n",
    "pd.set_option('display.max_rows', 150)\n",
    "from matplotlib import rcParams\n",
    "rcParams['font.family'] = 'sans-serif'\n",
    "rcParams['font.sans-serif'] = ['Hiragino Maru Gothic Pro', 'Yu Gothic', 'Meirio', 'Takao', 'IPAexGothic', 'IPAPGothic', 'VL PGothic', 'Noto Sans CJK JP']\n",
    "\n",
    "cmd = 'echo `mecab-config --dicdir`\"/mecab-ipadic-neologd\"'\n",
    "path = (subprocess.Popen(cmd, stdout=subprocess.PIPE,\n",
    "                           shell=True).communicate()[0]).decode('utf-8')\n",
    "m = MeCab.Tagger(\"-d {0}\".format(path))\n",
    "m_wakati = MeCab.Tagger(\"-d {0} -Owakati\".format(path))"
   ]
  },
  {
   "cell_type": "code",
   "execution_count": 4,
   "metadata": {},
   "outputs": [],
   "source": [
    "filePath = \"data/tinder.xlsx\"\n",
    "imagePath = \"data/photos\""
   ]
  },
  {
   "cell_type": "code",
   "execution_count": 5,
   "metadata": {},
   "outputs": [],
   "source": [
    "df = pd.read_excel(filePath)\n",
    "df.drop_duplicates(inplace=True, subset=\"id\")"
   ]
  },
  {
   "cell_type": "code",
   "execution_count": 6,
   "metadata": {},
   "outputs": [
    {
     "data": {
      "application/vnd.jupyter.widget-view+json": {
       "model_id": "bb9613410f27477291d8669d16ab04d5",
       "version_major": 2,
       "version_minor": 0
      },
      "text/plain": [
       "HBox(children=(FloatProgress(value=0.0, max=10590.0), HTML(value='')))"
      ]
     },
     "metadata": {},
     "output_type": "display_data"
    },
    {
     "name": "stdout",
     "output_type": "stream",
     "text": [
      "\n"
     ]
    },
    {
     "data": {
      "application/vnd.jupyter.widget-view+json": {
       "model_id": "c3db7ba41615485faefbccf375be9e99",
       "version_major": 2,
       "version_minor": 0
      },
      "text/plain": [
       "HBox(children=(FloatProgress(value=0.0, max=10590.0), HTML(value='')))"
      ]
     },
     "metadata": {},
     "output_type": "display_data"
    },
    {
     "name": "stdout",
     "output_type": "stream",
     "text": [
      "\n"
     ]
    }
   ],
   "source": [
    "df[\"bio\"] = df[\"bio\"].fillna(\"\")\n",
    "df[\"bio_length\"] = df[\"bio\"].progress_apply(lambda w:np.log1p(len(str(w))))\n",
    "\n",
    "def getPhotoNum(_id):\n",
    "    return len(glob.glob(os.path.join(imagePath,\"{0}-*.jpg\".format(_id))))\n",
    "\n",
    "with Pool() as p:\n",
    "    imap=p.imap(getPhotoNum, df[\"id\"])\n",
    "    df[\"photo_num\"]=np.asarray(list(tqdm(imap, total=df[\"id\"].shape[0])))"
   ]
  },
  {
   "cell_type": "code",
   "execution_count": 7,
   "metadata": {},
   "outputs": [],
   "source": [
    "df_train, df_test = train_test_split(df, train_size=0.8, random_state=8000)"
   ]
  },
  {
   "cell_type": "code",
   "execution_count": 8,
   "metadata": {},
   "outputs": [],
   "source": [
    "bios=[]\n",
    "for bio in df_train.bio:\n",
    "    bio=m_wakati.parse(str(bio)).strip()\n",
    "    bios.append(bio)\n",
    "\n",
    "trainings = [TaggedDocument(words = data.split(),tags = [i]) for i,data in enumerate(bios)]\n",
    "doc2vec = Doc2Vec(documents= trainings, vector_size=16, window=4, min_count=3)"
   ]
  },
  {
   "cell_type": "code",
   "execution_count": 9,
   "metadata": {},
   "outputs": [],
   "source": [
    "X_train_bio = np.array([doc2vec.docvecs[i] for i in range(df_train.shape[0])])\n",
    "X_test_bio = np.array([doc2vec.infer_vector(m_wakati.parse(str(bio)).split(\" \")) for bio in df_test.bio])\n",
    "y_train = df_train[\"match\"].values\n",
    "y_test = df_test[\"match\"].values"
   ]
  },
  {
   "cell_type": "code",
   "execution_count": 10,
   "metadata": {
    "scrolled": false
   },
   "outputs": [],
   "source": [
    "def train(X_train, y_train, model, n=5,**kwargs):\n",
    "    np.random.seed(seed=32)\n",
    "    models = [copy.deepcopy(model) for i in range(n)]\n",
    "    labels = np.random.randint(0,n,X_train.shape[0])\n",
    "    y_pred = np.zeros_like(labels).astype(np.float32)\n",
    "    for i in range(n):\n",
    "        model = models[i]\n",
    "        _X_train = X_train[labels!=i]\n",
    "        _y_train = y_train[labels!=i]\n",
    "        _X_test = X_train[labels==i]\n",
    "        _y_test = y_train[labels==i]\n",
    "        model.fit(_X_train, _y_train,**kwargs)\n",
    "        _y_pred = model.predict(_X_test).reshape(-1,)\n",
    "        print(roc_auc_score(_y_test, _y_pred))\n",
    "        y_pred[labels==i] = _y_pred\n",
    "    return y_pred, models\n",
    "\n",
    "def predict(X_test, models):\n",
    "    y_pred = np.zeros(X_test.shape[0])\n",
    "    n = len(models)\n",
    "    for model in models:\n",
    "        y_pred += model.predict(X_test).reshape((-1,))/n\n",
    "    return y_pred"
   ]
  },
  {
   "cell_type": "code",
   "execution_count": 11,
   "metadata": {},
   "outputs": [
    {
     "name": "stdout",
     "output_type": "stream",
     "text": [
      "0.44519433275895076\n",
      "0.5066800419497516\n",
      "0.7078039927404719\n",
      "0.6129287003610109\n",
      "0.5223855092276145\n",
      "[14:57:53] WARNING: /workspace/src/objective/regression_obj.cu:152: reg:linear is now deprecated in favor of reg:squarederror.\n",
      "0.5353245261344055\n",
      "[14:57:53] WARNING: /workspace/src/objective/regression_obj.cu:152: reg:linear is now deprecated in favor of reg:squarederror.\n",
      "0.6177784870730929\n",
      "[14:57:53] WARNING: /workspace/src/objective/regression_obj.cu:152: reg:linear is now deprecated in favor of reg:squarederror.\n",
      "0.5856019358741682\n",
      "[14:57:54] WARNING: /workspace/src/objective/regression_obj.cu:152: reg:linear is now deprecated in favor of reg:squarederror.\n",
      "0.36078519855595664\n",
      "[14:57:54] WARNING: /workspace/src/objective/regression_obj.cu:152: reg:linear is now deprecated in favor of reg:squarederror.\n",
      "0.576255980861244\n"
     ]
    }
   ],
   "source": [
    "y_pred, models=train(X_train_bio, y_train, make_pipeline(StandardScaler(), SVR(C=100)))\n",
    "df_train[\"bio_svr\"] = y_pred\n",
    "df_test[\"bio_svr\"] = predict(X_test_bio, models)\n",
    "\n",
    "y_pred, models = train(X_train_bio, y_train, xgb.XGBRegressor(n_jobs=-1))\n",
    "df_train[\"bio_xgb\"] = y_pred\n",
    "df_test[\"bio_xgb\"] = predict(X_test_bio, models)"
   ]
  },
  {
   "cell_type": "code",
   "execution_count": 12,
   "metadata": {},
   "outputs": [
    {
     "data": {
      "application/vnd.jupyter.widget-view+json": {
       "model_id": "24ce6a661d1d4679a05fa35b8764dc31",
       "version_major": 2,
       "version_minor": 0
      },
      "text/plain": [
       "HBox(children=(FloatProgress(value=0.0, max=8472.0), HTML(value='')))"
      ]
     },
     "metadata": {},
     "output_type": "display_data"
    },
    {
     "name": "stdout",
     "output_type": "stream",
     "text": [
      "\n"
     ]
    }
   ],
   "source": [
    "def getImage(_id):\n",
    "    num_photos = int(df[df[\"id\"]==_id][\"photo_num\"])\n",
    "    imgs = []\n",
    "    for i in range(num_photos):\n",
    "        fileName = _id+\"-\"+str(i)+\".jpg\"\n",
    "        filePath = os.path.join(imagePath, fileName)\n",
    "        img = cv2.imread(filePath)\n",
    "        if img is None:\n",
    "            print(filePath)\n",
    "        img = cv2.resize(img, (120,120))\n",
    "        imgs.append(img)\n",
    "    return imgs\n",
    "\n",
    "#写真の読み込み\n",
    "X_train_images = []\n",
    "with Pool() as p:\n",
    "    imap=p.imap(getImage, df_train[\"id\"])\n",
    "    for photos in list(tqdm(imap, total=df_train.shape[0])):\n",
    "        for photo in photos:\n",
    "            X_train_images.append(photo)\n",
    "X_train_images = np.asarray(X_train_images)/255\n",
    "    \n",
    "y_train_image = []\n",
    "for photo_num, label in zip(df_train[\"photo_num\"], y_train):\n",
    "    y_train_image += [label]*photo_num\n",
    "y_train_image = np.array(y_train_image)"
   ]
  },
  {
   "cell_type": "code",
   "execution_count": 13,
   "metadata": {},
   "outputs": [
    {
     "name": "stdout",
     "output_type": "stream",
     "text": [
      "Epoch 1/10\n",
      "16471/16471 [==============================] - 97s 6ms/step - loss: 0.0235 - mse: 0.0235\n",
      "Epoch 2/10\n",
      "16471/16471 [==============================] - 97s 6ms/step - loss: 0.0103 - mse: 0.0103\n",
      "Epoch 3/10\n",
      "16471/16471 [==============================] - 98s 6ms/step - loss: 0.0085 - mse: 0.0085\n",
      "Epoch 4/10\n",
      "16471/16471 [==============================] - 97s 6ms/step - loss: 0.0080 - mse: 0.0080\n",
      "Epoch 5/10\n",
      "16471/16471 [==============================] - 98s 6ms/step - loss: 0.0079 - mse: 0.0079\n",
      "Epoch 6/10\n",
      "16471/16471 [==============================] - 98s 6ms/step - loss: 0.0077 - mse: 0.0077\n",
      "Epoch 7/10\n",
      "16471/16471 [==============================] - 98s 6ms/step - loss: 0.0080 - mse: 0.0080\n",
      "Epoch 8/10\n",
      "16471/16471 [==============================] - 98s 6ms/step - loss: 0.0077 - mse: 0.0077\n",
      "Epoch 9/10\n",
      "16471/16471 [==============================] - 98s 6ms/step - loss: 0.0077 - mse: 0.0077\n",
      "Epoch 10/10\n",
      "16471/16471 [==============================] - 98s 6ms/step - loss: 0.0078 - mse: 0.0078\n",
      "0.5674633961142932\n",
      "Epoch 1/10\n",
      "16546/16546 [==============================] - 96s 6ms/step - loss: 0.0233 - mse: 0.0233\n",
      "Epoch 2/10\n",
      "16546/16546 [==============================] - 96s 6ms/step - loss: 0.0101 - mse: 0.0101\n",
      "Epoch 3/10\n",
      "16546/16546 [==============================] - 95s 6ms/step - loss: 0.0085 - mse: 0.0085\n",
      "Epoch 4/10\n",
      "16546/16546 [==============================] - 96s 6ms/step - loss: 0.0080 - mse: 0.0080\n",
      "Epoch 5/10\n",
      "16546/16546 [==============================] - 96s 6ms/step - loss: 0.0077 - mse: 0.0077\n",
      "Epoch 6/10\n",
      "16546/16546 [==============================] - 96s 6ms/step - loss: 0.0077 - mse: 0.0077\n",
      "Epoch 7/10\n",
      "16546/16546 [==============================] - 95s 6ms/step - loss: 0.0077 - mse: 0.0077\n",
      "Epoch 8/10\n",
      "16546/16546 [==============================] - 95s 6ms/step - loss: 0.0075 - mse: 0.0075\n",
      "Epoch 9/10\n",
      "16546/16546 [==============================] - 96s 6ms/step - loss: 0.0077 - mse: 0.0077\n",
      "Epoch 10/10\n",
      "16546/16546 [==============================] - 96s 6ms/step - loss: 0.0076 - mse: 0.0076\n",
      "0.5621838890593168\n",
      "Epoch 1/10\n",
      "16573/16573 [==============================] - 95s 6ms/step - loss: 0.0238 - mse: 0.0238\n",
      "Epoch 2/10\n",
      "16573/16573 [==============================] - 95s 6ms/step - loss: 0.0102 - mse: 0.0102\n",
      "Epoch 3/10\n",
      "16573/16573 [==============================] - 95s 6ms/step - loss: 0.0084 - mse: 0.0084\n",
      "Epoch 4/10\n",
      "16573/16573 [==============================] - 95s 6ms/step - loss: 0.0079 - mse: 0.0079\n",
      "Epoch 5/10\n",
      "16573/16573 [==============================] - 95s 6ms/step - loss: 0.0075 - mse: 0.0075\n",
      "Epoch 6/10\n",
      "16573/16573 [==============================] - 95s 6ms/step - loss: 0.0076 - mse: 0.0076\n",
      "Epoch 7/10\n",
      "16573/16573 [==============================] - 95s 6ms/step - loss: 0.0074 - mse: 0.0074\n",
      "Epoch 8/10\n",
      "16573/16573 [==============================] - 98s 6ms/step - loss: 0.0075 - mse: 0.0075\n",
      "Epoch 9/10\n",
      "16573/16573 [==============================] - 96s 6ms/step - loss: 0.0074 - mse: 0.0074\n",
      "Epoch 10/10\n",
      "16573/16573 [==============================] - 99s 6ms/step - loss: 0.0075 - mse: 0.0075\n",
      "0.5655920083476553\n",
      "Epoch 1/10\n",
      "16595/16595 [==============================] - 95s 6ms/step - loss: 0.0246 - mse: 0.0246\n",
      "Epoch 2/10\n",
      "16595/16595 [==============================] - 98s 6ms/step - loss: 0.0104 - mse: 0.0104\n",
      "Epoch 3/10\n",
      "16595/16595 [==============================] - 97s 6ms/step - loss: 0.0084 - mse: 0.0084\n",
      "Epoch 4/10\n",
      "16595/16595 [==============================] - 96s 6ms/step - loss: 0.0078 - mse: 0.0078\n",
      "Epoch 5/10\n",
      "16595/16595 [==============================] - 101s 6ms/step - loss: 0.0077 - mse: 0.0077\n",
      "Epoch 6/10\n",
      "16595/16595 [==============================] - 102s 6ms/step - loss: 0.0076 - mse: 0.0076\n",
      "Epoch 7/10\n",
      "16595/16595 [==============================] - 106s 6ms/step - loss: 0.0074 - mse: 0.0074\n",
      "Epoch 8/10\n",
      "16595/16595 [==============================] - 100s 6ms/step - loss: 0.0077 - mse: 0.0077\n",
      "Epoch 9/10\n",
      "16595/16595 [==============================] - 99s 6ms/step - loss: 0.0074 - mse: 0.0074\n",
      "Epoch 10/10\n",
      "16595/16595 [==============================] - 102s 6ms/step - loss: 0.0075 - mse: 0.0075\n",
      "0.6334084176746482\n",
      "Epoch 1/10\n",
      "16527/16527 [==============================] - 100s 6ms/step - loss: 0.0251 - mse: 0.0251\n",
      "Epoch 2/10\n",
      "16527/16527 [==============================] - 98s 6ms/step - loss: 0.0110 - mse: 0.0110\n",
      "Epoch 3/10\n",
      "16527/16527 [==============================] - 97s 6ms/step - loss: 0.0091 - mse: 0.0091\n",
      "Epoch 4/10\n",
      "16527/16527 [==============================] - 97s 6ms/step - loss: 0.0087 - mse: 0.0087\n",
      "Epoch 5/10\n",
      "16527/16527 [==============================] - 97s 6ms/step - loss: 0.0082 - mse: 0.0082\n",
      "Epoch 6/10\n",
      "16527/16527 [==============================] - 96s 6ms/step - loss: 0.0081 - mse: 0.0081\n",
      "Epoch 7/10\n",
      "16527/16527 [==============================] - 96s 6ms/step - loss: 0.0081 - mse: 0.0081\n",
      "Epoch 8/10\n",
      "16527/16527 [==============================] - 96s 6ms/step - loss: 0.0081 - mse: 0.0081\n",
      "Epoch 9/10\n",
      "16527/16527 [==============================] - 96s 6ms/step - loss: 0.0081 - mse: 0.0081\n",
      "Epoch 10/10\n",
      "16527/16527 [==============================] - 96s 6ms/step - loss: 0.0082 - mse: 0.0082\n",
      "0.4963662790697675\n"
     ]
    }
   ],
   "source": [
    "def getVGG16BasedModel():\n",
    "    model = VGG16(weights=\"imagenet\", include_top=False)\n",
    "    x = model.output\n",
    "    x = GlobalAveragePooling2D()(x)\n",
    "    predictions = Dense(1, activation=\"linear\")(x)\n",
    "    model = Model(inputs=model.input, outputs=predictions)\n",
    "    for layer in model.layers[:-3]:\n",
    "        layer.trainable=False\n",
    "    return model\n",
    "\n",
    "\n",
    "model = getVGG16BasedModel()\n",
    "model.compile(optimizer=Adam(), loss=\"mse\", metrics=[\"mse\"])\n",
    "y_pred, models = train(X_train_images, y_train_image, model, epochs=10)"
   ]
  },
  {
   "cell_type": "code",
   "execution_count": 14,
   "metadata": {},
   "outputs": [
    {
     "data": {
      "application/vnd.jupyter.widget-view+json": {
       "model_id": "e996d44e61414cdca5b4e25f8061d4e4",
       "version_major": 2,
       "version_minor": 0
      },
      "text/plain": [
       "HBox(children=(FloatProgress(value=0.0, max=8472.0), HTML(value='')))"
      ]
     },
     "metadata": {},
     "output_type": "display_data"
    },
    {
     "name": "stdout",
     "output_type": "stream",
     "text": [
      "\n"
     ]
    }
   ],
   "source": [
    "s = 0\n",
    "y_pred_photo_mean = []\n",
    "y_pred_photo_max = []\n",
    "for n in tqdm(df_train[\"photo_num\"]):\n",
    "    if n>0:\n",
    "        y_pred_photo_mean.append(np.mean(y_pred[s:s+n]))\n",
    "        y_pred_photo_max.append(np.max(y_pred[s:s+n]))\n",
    "    else:\n",
    "        y_pred_photo_mean.append(np.mean(y_pred))\n",
    "        y_pred_photo_max.append(np.mean(y_pred))\n",
    "    s+=n\n",
    "df_train[\"photo_mean\"] = np.array(y_pred_photo_mean)\n",
    "df_train[\"photo_max\"] = np.array(y_pred_photo_max)"
   ]
  },
  {
   "cell_type": "code",
   "execution_count": 15,
   "metadata": {},
   "outputs": [
    {
     "data": {
      "application/vnd.jupyter.widget-view+json": {
       "model_id": "d492a2c9f4fd4e43a3aac6c8aaa1e59f",
       "version_major": 2,
       "version_minor": 0
      },
      "text/plain": [
       "HBox(children=(FloatProgress(value=0.0, max=2118.0), HTML(value='')))"
      ]
     },
     "metadata": {},
     "output_type": "display_data"
    },
    {
     "name": "stdout",
     "output_type": "stream",
     "text": [
      "\n"
     ]
    },
    {
     "data": {
      "application/vnd.jupyter.widget-view+json": {
       "model_id": "e6aa371c5b49409a8afe82f34cec268c",
       "version_major": 2,
       "version_minor": 0
      },
      "text/plain": [
       "HBox(children=(FloatProgress(value=0.0, max=2118.0), HTML(value='')))"
      ]
     },
     "metadata": {},
     "output_type": "display_data"
    },
    {
     "name": "stdout",
     "output_type": "stream",
     "text": [
      "\n"
     ]
    }
   ],
   "source": [
    "X_test_images = []\n",
    "with Pool() as p:\n",
    "    imap=p.imap(getImage, df_test[\"id\"])\n",
    "    for photos in list(tqdm(imap, total=df_test.shape[0])):\n",
    "        for photo in photos:\n",
    "            X_test_images.append(photo)\n",
    "X_test_images = np.asarray(X_test_images)/255\n",
    "    \n",
    "y_pred = predict(X_test_images, models)\n",
    "\n",
    "s = 0\n",
    "y_pred_photo_mean = []\n",
    "y_pred_photo_max = []\n",
    "for n in tqdm(df_test[\"photo_num\"]):\n",
    "    if n>0:\n",
    "        y_pred_photo_mean.append(np.mean(y_pred[s:s+n]))\n",
    "        y_pred_photo_max.append(np.max(y_pred[s:s+n]))\n",
    "    else:\n",
    "        y_pred_photo_mean.append(np.mean(y_pred))\n",
    "        y_pred_photo_max.append(np.mean(y_pred))\n",
    "    s+=n\n",
    "df_test[\"photo_mean\"] = np.array(y_pred_photo_mean)\n",
    "df_test[\"photo_max\"] = np.array(y_pred_photo_max)"
   ]
  },
  {
   "cell_type": "code",
   "execution_count": 16,
   "metadata": {},
   "outputs": [],
   "source": [
    "labels = [\"age\",\"photo_num\",\"bio_svr\",\"bio_xgb\",\"photo_mean\",\"photo_max\",\"bio_length\"]\n",
    "df2 = df_train[labels]\n",
    "df2_test = df_test[labels]"
   ]
  },
  {
   "cell_type": "code",
   "execution_count": 17,
   "metadata": {},
   "outputs": [],
   "source": [
    "df2[\"photo_mean\"] = df2[\"photo_mean\"].fillna(df2[\"photo_mean\"].mean())\n",
    "df2[\"photo_max\"] = df2[\"photo_max\"].fillna(df2[\"photo_max\"].mean())\n",
    "df2[\"age\"][df2[\"age\"]==\"undefined\"] = np.mean(df2[\"age\"][df2[\"age\"]!=\"undefined\"])\n",
    "df2 = df2.astype(np.float32)\n",
    "df2[\"age\"] = (df2[\"age\"]-18)/10\n",
    "df2[\"photo_num\"] = df2[\"photo_num\"]/6\n",
    "\n",
    "df2_test[\"photo_mean\"] = df2_test[\"photo_mean\"].fillna(df2[\"photo_mean\"].mean())\n",
    "df2_test[\"photo_max\"] = df2_test[\"photo_max\"].fillna(df2[\"photo_max\"].mean())\n",
    "df2_test[\"age\"][df2_test[\"age\"]==\"undefined\"] = np.mean(df2[\"age\"][df2[\"age\"]!=\"undefined\"])\n",
    "df2_test = df2_test.astype(np.float32)\n",
    "df2_test[\"age\"] = (df2_test[\"age\"]-18)/10\n",
    "df2_test[\"photo_num\"] = df2_test[\"photo_num\"]/6"
   ]
  },
  {
   "cell_type": "code",
   "execution_count": 18,
   "metadata": {},
   "outputs": [
    {
     "name": "stdout",
     "output_type": "stream",
     "text": [
      "[16:24:04] WARNING: /workspace/src/objective/regression_obj.cu:152: reg:linear is now deprecated in favor of reg:squarederror.\n"
     ]
    }
   ],
   "source": [
    "clf = xgb.XGBRegressor(max_depth=2, n_jobs=-1)\n",
    "clf.fit(df2, y_train)\n",
    "y_pred = clf.predict(df2_test)"
   ]
  },
  {
   "cell_type": "code",
   "execution_count": 19,
   "metadata": {},
   "outputs": [
    {
     "data": {
      "text/plain": [
       "0.6797273735932794"
      ]
     },
     "execution_count": 19,
     "metadata": {},
     "output_type": "execute_result"
    }
   ],
   "source": [
    "roc_auc_score(y_test, y_pred)"
   ]
  }
 ],
 "metadata": {
  "kernelspec": {
   "display_name": "Python 3",
   "language": "python",
   "name": "python3"
  },
  "language_info": {
   "codemirror_mode": {
    "name": "ipython",
    "version": 3
   },
   "file_extension": ".py",
   "mimetype": "text/x-python",
   "name": "python",
   "nbconvert_exporter": "python",
   "pygments_lexer": "ipython3",
   "version": "3.7.5"
  }
 },
 "nbformat": 4,
 "nbformat_minor": 2
}
