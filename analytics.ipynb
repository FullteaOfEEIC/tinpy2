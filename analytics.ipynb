{
 "cells": [
  {
   "cell_type": "code",
   "execution_count": 1,
   "metadata": {},
   "outputs": [],
   "source": [
    "import warnings\n",
    "warnings.filterwarnings('ignore')"
   ]
  },
  {
   "cell_type": "code",
   "execution_count": 2,
   "metadata": {},
   "outputs": [
    {
     "name": "stderr",
     "output_type": "stream",
     "text": [
      "Using TensorFlow backend.\n"
     ]
    }
   ],
   "source": [
    "import pandas as pd\n",
    "import numpy as np\n",
    "from tqdm.notebook import tqdm\n",
    "import matplotlib.pyplot as plt\n",
    "import matplotlib\n",
    "import seaborn as sns\n",
    "from collections import Counter\n",
    "import os\n",
    "import sys\n",
    "import re\n",
    "import subprocess\n",
    "import MeCab\n",
    "import glob\n",
    "import xgboost as xgb\n",
    "import cv2\n",
    "from multiprocessing import Pool\n",
    "import copy\n",
    "import shelve\n",
    "\n",
    "from sklearn.preprocessing import StandardScaler\n",
    "from sklearn.metrics import roc_auc_score\n",
    "from sklearn.model_selection import train_test_split\n",
    "from sklearn.pipeline import make_pipeline\n",
    "from sklearn.ensemble import RandomForestRegressor\n",
    "from sklearn.svm import LinearSVR\n",
    "from sklearn.linear_model import TheilSenRegressor\n",
    "\n",
    "from gensim.models.doc2vec import Doc2Vec\n",
    "from gensim.models.doc2vec import TaggedDocument\n",
    "\n",
    "import keras\n",
    "from keras.layers import Dense, GlobalAveragePooling2D\n",
    "from keras.utils import to_categorical\n",
    "from keras.optimizers import Adam\n",
    "from keras.applications.vgg16 import VGG16\n",
    "from keras.models import Model, Sequential\n",
    "import tensorflow as tf"
   ]
  },
  {
   "cell_type": "code",
   "execution_count": 3,
   "metadata": {},
   "outputs": [],
   "source": [
    "tqdm.pandas()\n",
    "pd.set_option('display.max_columns', 50)\n",
    "pd.set_option('display.max_rows', 150)\n",
    "from matplotlib import rcParams\n",
    "rcParams['font.family'] = 'sans-serif'\n",
    "rcParams['font.sans-serif'] = ['Hiragino Maru Gothic Pro', 'Yu Gothic', 'Meirio', 'Takao', 'IPAexGothic', 'IPAPGothic', 'VL PGothic', 'Noto Sans CJK JP']\n",
    "\n",
    "cmd = 'echo `mecab-config --dicdir`\"/mecab-ipadic-neologd\"'\n",
    "path = (subprocess.Popen(cmd, stdout=subprocess.PIPE,\n",
    "                           shell=True).communicate()[0]).decode('utf-8')\n",
    "m = MeCab.Tagger(\"-d {0}\".format(path))\n",
    "m_wakati = MeCab.Tagger(\"-d {0} -Owakati\".format(path))\n",
    "sf = shelve.open(\"data/models.db\")"
   ]
  },
  {
   "cell_type": "code",
   "execution_count": 4,
   "metadata": {},
   "outputs": [],
   "source": [
    "filePath = \"data/tinder.xlsx\"\n",
    "imagePath = \"data/photos\""
   ]
  },
  {
   "cell_type": "code",
   "execution_count": 5,
   "metadata": {},
   "outputs": [],
   "source": [
    "df = pd.read_excel(filePath)\n",
    "df.drop_duplicates(inplace=True, subset=\"id\")\n",
    "df.drop([\"Unnamed: 0\"],axis=1,inplace=True)"
   ]
  },
  {
   "cell_type": "code",
   "execution_count": 6,
   "metadata": {},
   "outputs": [
    {
     "data": {
      "application/vnd.jupyter.widget-view+json": {
       "model_id": "804e2c12ed394a7aa89cc00159971609",
       "version_major": 2,
       "version_minor": 0
      },
      "text/plain": [
       "HBox(children=(FloatProgress(value=0.0, max=75341.0), HTML(value='')))"
      ]
     },
     "metadata": {},
     "output_type": "display_data"
    },
    {
     "name": "stdout",
     "output_type": "stream",
     "text": [
      "\n"
     ]
    },
    {
     "data": {
      "application/vnd.jupyter.widget-view+json": {
       "model_id": "49e8511d5d054d4e95fd610fba486eaf",
       "version_major": 2,
       "version_minor": 0
      },
      "text/plain": [
       "HBox(children=(FloatProgress(value=0.0, max=75341.0), HTML(value='')))"
      ]
     },
     "metadata": {},
     "output_type": "display_data"
    },
    {
     "name": "stdout",
     "output_type": "stream",
     "text": [
      "\n"
     ]
    }
   ],
   "source": [
    "df[\"bio\"] = df[\"bio\"].fillna(\"\")\n",
    "df[\"bio_length\"] = df[\"bio\"].progress_apply(lambda w:np.log1p(len(str(w))))\n",
    "\n",
    "def getPhotoNum(_id):\n",
    "    return len(glob.glob(os.path.join(imagePath,\"{0}-*.jpg\".format(_id))))\n",
    "\n",
    "with Pool() as p:\n",
    "    imap=p.imap(getPhotoNum, df[\"id\"])\n",
    "    df[\"photo_num\"]=np.asarray(list(tqdm(imap, total=df[\"id\"].shape[0])))"
   ]
  },
  {
   "cell_type": "code",
   "execution_count": 7,
   "metadata": {},
   "outputs": [],
   "source": [
    "df_train, df_test = train_test_split(df, train_size=0.8, random_state=8000)\n",
    "df_train = df"
   ]
  },
  {
   "cell_type": "code",
   "execution_count": 8,
   "metadata": {},
   "outputs": [],
   "source": [
    "bios=[]\n",
    "for bio in df_train.bio:\n",
    "    bio=m_wakati.parse(str(bio)).strip()\n",
    "    bios.append(bio)\n",
    "\n",
    "trainings = [TaggedDocument(words = data.split(),tags = [i]) for i,data in enumerate(bios)]\n",
    "doc2vec = Doc2Vec(documents= trainings, vector_size=16, window=5, min_count=3, workers=64, seed=8888)\n",
    "sf[\"doc2vec\"] = doc2vec"
   ]
  },
  {
   "cell_type": "code",
   "execution_count": 9,
   "metadata": {},
   "outputs": [],
   "source": [
    "X_train_bio = np.array([doc2vec.docvecs[i] for i in range(df_train.shape[0])])\n",
    "X_test_bio = np.array([doc2vec.infer_vector(m_wakati.parse(str(bio)).split(\" \")) for bio in df_test.bio])"
   ]
  },
  {
   "cell_type": "code",
   "execution_count": 10,
   "metadata": {},
   "outputs": [],
   "source": [
    "y_train = df_train[\"match\"].values\n",
    "y_test = df_test[\"match\"].values"
   ]
  },
  {
   "cell_type": "code",
   "execution_count": 11,
   "metadata": {
    "scrolled": false
   },
   "outputs": [],
   "source": [
    "def train(X_train, y_train, model, n=5,**kwargs):\n",
    "    np.random.seed(seed=32)\n",
    "    models = [copy.deepcopy(model) for i in range(n)]\n",
    "    labels = np.random.randint(0,n,X_train.shape[0])\n",
    "    y_pred = np.zeros_like(labels).astype(np.float32)\n",
    "    for i in range(n):\n",
    "        model = models[i]\n",
    "        _X_train = X_train[labels!=i]\n",
    "        _y_train = y_train[labels!=i]\n",
    "        _X_test = X_train[labels==i]\n",
    "        _y_test = y_train[labels==i]\n",
    "        model.fit(_X_train, _y_train,**kwargs)\n",
    "        _y_pred = model.predict(_X_test).reshape(-1,)\n",
    "        print(roc_auc_score(_y_test, _y_pred))\n",
    "        y_pred[labels==i] = _y_pred\n",
    "        del _X_train, _y_train, _X_test, _y_test\n",
    "    return y_pred, models\n",
    "\n",
    "def predict(X_test, models):\n",
    "    y_pred = np.zeros(X_test.shape[0])\n",
    "    n = len(models)\n",
    "    for model in models:\n",
    "        y_pred += model.predict(X_test).reshape((-1,))/n\n",
    "    return y_pred"
   ]
  },
  {
   "cell_type": "code",
   "execution_count": 12,
   "metadata": {},
   "outputs": [],
   "source": [
    "def getMLPModel(n=16):\n",
    "    model=Sequential()\n",
    "    model.add(Dense(64,input_shape=(n,),activation=\"relu\"))\n",
    "    model.add(Dense(1,activation=\"linear\"))\n",
    "    return model"
   ]
  },
  {
   "cell_type": "code",
   "execution_count": 13,
   "metadata": {},
   "outputs": [
    {
     "name": "stdout",
     "output_type": "stream",
     "text": [
      "0.5038494336948558\n",
      "0.5390815454504565\n",
      "0.6436126996772286\n",
      "0.5892795952360379\n",
      "0.5558343073809049\n",
      "[02:11:44] WARNING: /workspace/src/objective/regression_obj.cu:152: reg:linear is now deprecated in favor of reg:squarederror.\n",
      "0.6095413108492775\n",
      "[02:11:58] WARNING: /workspace/src/objective/regression_obj.cu:152: reg:linear is now deprecated in favor of reg:squarederror.\n",
      "0.5784269629229823\n",
      "[02:12:12] WARNING: /workspace/src/objective/regression_obj.cu:152: reg:linear is now deprecated in favor of reg:squarederror.\n",
      "0.586353979950873\n",
      "[02:12:26] WARNING: /workspace/src/objective/regression_obj.cu:152: reg:linear is now deprecated in favor of reg:squarederror.\n",
      "0.5665687334936418\n",
      "[02:12:40] WARNING: /workspace/src/objective/regression_obj.cu:152: reg:linear is now deprecated in favor of reg:squarederror.\n",
      "0.4831927582447867\n",
      "0.5495147671723177\n",
      "0.5582632423274712\n",
      "0.5668802142114231\n",
      "0.5474211096642958\n",
      "0.5421677751124399\n",
      "Epoch 1/10\n",
      "60148/60148 [==============================] - 2s 26us/step - loss: 0.0035 - mse: 0.0035\n",
      "Epoch 2/10\n",
      "60148/60148 [==============================] - 1s 18us/step - loss: 0.0034 - mse: 0.0034\n",
      "Epoch 3/10\n",
      "60148/60148 [==============================] - 1s 19us/step - loss: 0.0034 - mse: 0.0034\n",
      "Epoch 4/10\n",
      "60148/60148 [==============================] - 1s 23us/step - loss: 0.0034 - mse: 0.0034\n",
      "Epoch 5/10\n",
      "60148/60148 [==============================] - 1s 21us/step - loss: 0.0034 - mse: 0.0034\n",
      "Epoch 6/10\n",
      "60148/60148 [==============================] - 1s 21us/step - loss: 0.0034 - mse: 0.0034\n",
      "Epoch 7/10\n",
      "60148/60148 [==============================] - 1s 22us/step - loss: 0.0034 - mse: 0.0034\n",
      "Epoch 8/10\n",
      "60148/60148 [==============================] - 1s 21us/step - loss: 0.0034 - mse: 0.0034\n",
      "Epoch 9/10\n",
      "60148/60148 [==============================] - 1s 22us/step - loss: 0.0034 - mse: 0.0034\n",
      "Epoch 10/10\n",
      "60148/60148 [==============================] - 1s 23us/step - loss: 0.0034 - mse: 0.0034\n",
      "0.50357917300167\n",
      "Epoch 1/10\n",
      "60473/60473 [==============================] - 1s 24us/step - loss: 0.0037 - mse: 0.0037\n",
      "Epoch 2/10\n",
      "60473/60473 [==============================] - 1s 23us/step - loss: 0.0036 - mse: 0.0036\n",
      "Epoch 3/10\n",
      "60473/60473 [==============================] - 1s 22us/step - loss: 0.0036 - mse: 0.0036\n",
      "Epoch 4/10\n",
      "60473/60473 [==============================] - 1s 23us/step - loss: 0.0036 - mse: 0.0036\n",
      "Epoch 5/10\n",
      "60473/60473 [==============================] - 1s 20us/step - loss: 0.0036 - mse: 0.0036\n",
      "Epoch 6/10\n",
      "60473/60473 [==============================] - 1s 21us/step - loss: 0.0036 - mse: 0.0036\n",
      "Epoch 7/10\n",
      "60473/60473 [==============================] - 1s 22us/step - loss: 0.0036 - mse: 0.0036\n",
      "Epoch 8/10\n",
      "60473/60473 [==============================] - 1s 23us/step - loss: 0.0036 - mse: 0.0036\n",
      "Epoch 9/10\n",
      "60473/60473 [==============================] - 1s 23us/step - loss: 0.0036 - mse: 0.0036\n",
      "Epoch 10/10\n",
      "60473/60473 [==============================] - 1s 24us/step - loss: 0.0036 - mse: 0.0036\n",
      "0.6444294011560854\n",
      "Epoch 1/10\n",
      "60235/60235 [==============================] - 1s 25us/step - loss: 0.0034 - mse: 0.0034\n",
      "Epoch 2/10\n",
      "60235/60235 [==============================] - 1s 22us/step - loss: 0.0033 - mse: 0.0033\n",
      "Epoch 3/10\n",
      "60235/60235 [==============================] - 1s 23us/step - loss: 0.0033 - mse: 0.0033\n",
      "Epoch 4/10\n",
      "60235/60235 [==============================] - 1s 22us/step - loss: 0.0033 - mse: 0.0033\n",
      "Epoch 5/10\n",
      "60235/60235 [==============================] - 1s 21us/step - loss: 0.0033 - mse: 0.0033\n",
      "Epoch 6/10\n",
      "60235/60235 [==============================] - 1s 21us/step - loss: 0.0033 - mse: 0.0033\n",
      "Epoch 7/10\n",
      "60235/60235 [==============================] - 1s 23us/step - loss: 0.0033 - mse: 0.0033\n",
      "Epoch 8/10\n",
      "60235/60235 [==============================] - 1s 23us/step - loss: 0.0033 - mse: 0.0033\n",
      "Epoch 9/10\n",
      "60235/60235 [==============================] - 1s 23us/step - loss: 0.0033 - mse: 0.0033\n",
      "Epoch 10/10\n",
      "60235/60235 [==============================] - 1s 22us/step - loss: 0.0033 - mse: 0.0033\n",
      "0.5912837540559862\n",
      "Epoch 1/10\n",
      "60247/60247 [==============================] - 1s 23us/step - loss: 0.0033 - mse: 0.0033\n",
      "Epoch 2/10\n",
      "60247/60247 [==============================] - 1s 21us/step - loss: 0.0033 - mse: 0.0033\n",
      "Epoch 3/10\n",
      "60247/60247 [==============================] - 1s 20us/step - loss: 0.0033 - mse: 0.0033\n",
      "Epoch 4/10\n",
      "60247/60247 [==============================] - 1s 22us/step - loss: 0.0033 - mse: 0.0033\n",
      "Epoch 5/10\n",
      "60247/60247 [==============================] - 1s 22us/step - loss: 0.0033 - mse: 0.0033\n",
      "Epoch 6/10\n",
      "60247/60247 [==============================] - 1s 16us/step - loss: 0.0033 - mse: 0.0033\n",
      "Epoch 7/10\n",
      "60247/60247 [==============================] - 1s 17us/step - loss: 0.0033 - mse: 0.0033TA: 0s - loss: 0.0034 \n",
      "Epoch 8/10\n",
      "60247/60247 [==============================] - 1s 18us/step - loss: 0.0033 - mse: 0.0033\n",
      "Epoch 9/10\n",
      "60247/60247 [==============================] - 1s 19us/step - loss: 0.0033 - mse: 0.0033\n",
      "Epoch 10/10\n",
      "60247/60247 [==============================] - 1s 21us/step - loss: 0.0033 - mse: 0.0033\n",
      "0.6596138767934587\n",
      "Epoch 1/10\n",
      "60261/60261 [==============================] - 1s 24us/step - loss: 0.0036 - mse: 0.0036\n",
      "Epoch 2/10\n",
      "60261/60261 [==============================] - 1s 22us/step - loss: 0.0035 - mse: 0.0035\n",
      "Epoch 3/10\n",
      "60261/60261 [==============================] - 1s 23us/step - loss: 0.0035 - mse: 0.0035\n",
      "Epoch 4/10\n",
      "60261/60261 [==============================] - 1s 21us/step - loss: 0.0035 - mse: 0.0035\n",
      "Epoch 5/10\n",
      "60261/60261 [==============================] - 1s 21us/step - loss: 0.0035 - mse: 0.0035\n",
      "Epoch 6/10\n",
      "60261/60261 [==============================] - 1s 23us/step - loss: 0.0035 - mse: 0.0035\n",
      "Epoch 7/10\n",
      "60261/60261 [==============================] - 1s 22us/step - loss: 0.0035 - mse: 0.0035\n",
      "Epoch 8/10\n",
      "60261/60261 [==============================] - 1s 18us/step - loss: 0.0035 - mse: 0.0035\n",
      "Epoch 9/10\n",
      "60261/60261 [==============================] - 1s 20us/step - loss: 0.0035 - mse: 0.0035\n",
      "Epoch 10/10\n",
      "60261/60261 [==============================] - 1s 23us/step - loss: 0.0035 - mse: 0.0035\n",
      "0.5744978069523643\n"
     ]
    }
   ],
   "source": [
    "y_pred, models=train(X_train_bio, y_train, TheilSenRegressor())\n",
    "df_train[\"bio_TheilSen\"] = y_pred\n",
    "df_test[\"bio_TheilSen\"] = predict(X_test_bio, models)\n",
    "sf[\"bio_TheilSen\"] = models\n",
    "\n",
    "y_pred, models = train(X_train_bio, y_train, xgb.XGBRegressor(n_jobs=-1))\n",
    "df_train[\"bio_xgb\"] = y_pred\n",
    "df_test[\"bio_xgb\"] = predict(X_test_bio, models)\n",
    "sf[\"bio_xgb\"] = models\n",
    "\n",
    "y_pred, models = train(X_train_bio, y_train, RandomForestRegressor(n_estimators=1024, n_jobs=-1))\n",
    "df_train[\"bio_rf\"] = y_pred\n",
    "df_test[\"bio_rf\"] = predict(X_test_bio, models)\n",
    "sf[\"bio_rf\"] = models\n",
    "\n",
    "model = getMLPModel()\n",
    "model.compile(optimizer=Adam(), loss=\"mse\", metrics=[\"mse\"])\n",
    "y_pred, models = train(X_train_bio, y_train, model,epochs=10)\n",
    "df_train[\"bio_mlp\"] = y_pred\n",
    "df_test[\"bio_mlp\"] = predict(X_test_bio, models)\n",
    "sf[\"bio_mlp\"] = models"
   ]
  },
  {
   "cell_type": "code",
   "execution_count": 14,
   "metadata": {},
   "outputs": [
    {
     "data": {
      "application/vnd.jupyter.widget-view+json": {
       "model_id": "497b8ff3d0374dd1bd74ca5f46c01ceb",
       "version_major": 2,
       "version_minor": 0
      },
      "text/plain": [
       "HBox(children=(FloatProgress(value=0.0, max=75341.0), HTML(value='')))"
      ]
     },
     "metadata": {},
     "output_type": "display_data"
    },
    {
     "name": "stdout",
     "output_type": "stream",
     "text": [
      "\n"
     ]
    }
   ],
   "source": [
    "def getImage(_id):\n",
    "    num_photos = int(df[df[\"id\"]==_id][\"photo_num\"])\n",
    "    imgs = []\n",
    "    for i in range(num_photos):\n",
    "        fileName = _id+\"-\"+str(i)+\".jpg\"\n",
    "        filePath = os.path.join(imagePath, fileName)\n",
    "        img = cv2.imread(filePath)\n",
    "        if img is None:\n",
    "            print(filePath)\n",
    "            continue\n",
    "        img = cv2.resize(img, (120,120))\n",
    "        img = cv2.cvtColor(img, cv2.COLOR_BGR2RGB)\n",
    "        imgs.append(img)\n",
    "    return imgs\n",
    "\n",
    "#写真の読み込み\n",
    "X_train_images = []\n",
    "with Pool() as p:\n",
    "    imap=p.imap(getImage, df_train[\"id\"])\n",
    "    for photos in list(tqdm(imap, total=df_train.shape[0])):\n",
    "        for photo in photos:\n",
    "            X_train_images.append(photo)\n",
    "X_train_images = np.asarray(X_train_images,dtype=np.float32)/255\n",
    "    \n",
    "y_train_image = []\n",
    "for photo_num, label in zip(df_train[\"photo_num\"], y_train):\n",
    "    y_train_image += [label]*photo_num\n",
    "y_train_image = np.array(y_train_image)"
   ]
  },
  {
   "cell_type": "code",
   "execution_count": 15,
   "metadata": {},
   "outputs": [
    {
     "name": "stdout",
     "output_type": "stream",
     "text": [
      "Epoch 1/5\n",
      "92932/92932 [==============================] - 606s 7ms/step - loss: 0.0085 - mse: 0.0085\n",
      "Epoch 2/5\n",
      "92932/92932 [==============================] - 611s 7ms/step - loss: 0.0048 - mse: 0.0048\n",
      "Epoch 3/5\n",
      "92932/92932 [==============================] - 615s 7ms/step - loss: 0.0048 - mse: 0.0048\n",
      "Epoch 4/5\n",
      "92932/92932 [==============================] - 610s 7ms/step - loss: 0.0048 - mse: 0.0048\n",
      "Epoch 5/5\n",
      "92932/92932 [==============================] - 611s 7ms/step - loss: 0.0048 - mse: 0.0048\n",
      "0.5856919607456319\n",
      "Epoch 1/5\n",
      "93351/93351 [==============================] - 605s 6ms/step - loss: 0.0082 - mse: 0.0082\n",
      "Epoch 2/5\n",
      "93351/93351 [==============================] - 613s 7ms/step - loss: 0.0048 - mse: 0.0048\n",
      "Epoch 3/5\n",
      "93351/93351 [==============================] - 619s 7ms/step - loss: 0.0047 - mse: 0.0047\n",
      "Epoch 4/5\n",
      "93351/93351 [==============================] - 612s 7ms/step - loss: 0.0047 - mse: 0.0047\n",
      "Epoch 5/5\n",
      "93351/93351 [==============================] - 614s 7ms/step - loss: 0.0047 - mse: 0.0047\n",
      "0.502004977744652\n",
      "Epoch 1/5\n",
      "93064/93064 [==============================] - 604s 6ms/step - loss: 0.0086 - mse: 0.0086\n",
      "Epoch 2/5\n",
      "93064/93064 [==============================] - 610s 7ms/step - loss: 0.0050 - mse: 0.0050\n",
      "Epoch 3/5\n",
      "93064/93064 [==============================] - 575s 6ms/step - loss: 0.0050 - mse: 0.0050\n",
      "Epoch 4/5\n",
      "93064/93064 [==============================] - 561s 6ms/step - loss: 0.0050 - mse: 0.0050\n",
      "Epoch 5/5\n",
      "93064/93064 [==============================] - 560s 6ms/step - loss: 0.0050 - mse: 0.0050\n",
      "0.5470958709173954\n",
      "Epoch 1/5\n",
      "92934/92934 [==============================] - 567s 6ms/step - loss: 0.0085 - mse: 0.0085\n",
      "Epoch 2/5\n",
      "92934/92934 [==============================] - 566s 6ms/step - loss: 0.0050 - mse: 0.0050\n",
      "Epoch 3/5\n",
      "92934/92934 [==============================] - 566s 6ms/step - loss: 0.0050 - mse: 0.0050\n",
      "Epoch 4/5\n",
      "92934/92934 [==============================] - 565s 6ms/step - loss: 0.0050 - mse: 0.0050\n",
      "Epoch 5/5\n",
      "92934/92934 [==============================] - 565s 6ms/step - loss: 0.0051 - mse: 0.0051\n",
      "0.49594159058720577\n",
      "Epoch 1/5\n",
      "93051/93051 [==============================] - 561s 6ms/step - loss: 0.0089 - mse: 0.0089\n",
      "Epoch 2/5\n",
      "93051/93051 [==============================] - 561s 6ms/step - loss: 0.0050 - mse: 0.0050\n",
      "Epoch 3/5\n",
      "93051/93051 [==============================] - 560s 6ms/step - loss: 0.0049 - mse: 0.0049\n",
      "Epoch 4/5\n",
      "93051/93051 [==============================] - 561s 6ms/step - loss: 0.0050 - mse: 0.0050\n",
      "Epoch 5/5\n",
      "93051/93051 [==============================] - 561s 6ms/step - loss: 0.0050 - mse: 0.0050\n",
      "0.5369133793209898\n"
     ]
    }
   ],
   "source": [
    "def getVGG16BasedModel():\n",
    "    model = VGG16(weights=\"imagenet\", include_top=False)\n",
    "    x = model.output\n",
    "    x = GlobalAveragePooling2D()(x)\n",
    "    predictions = Dense(1, activation=\"linear\")(x)\n",
    "    model = Model(inputs=model.input, outputs=predictions)\n",
    "    for layer in model.layers[:-3]:\n",
    "        layer.trainable=False\n",
    "    return model\n",
    "\n",
    "\n",
    "model = getVGG16BasedModel()\n",
    "model.compile(optimizer=Adam(), loss=\"mse\", metrics=[\"mse\"])\n",
    "y_pred, models = train(X_train_images, y_train_image, model, epochs=5)\n",
    "sf[\"VGG16_based\"] = models"
   ]
  },
  {
   "cell_type": "code",
   "execution_count": 16,
   "metadata": {},
   "outputs": [
    {
     "data": {
      "application/vnd.jupyter.widget-view+json": {
       "model_id": "21b237c3a7b340a393bc27aeb7e2261d",
       "version_major": 2,
       "version_minor": 0
      },
      "text/plain": [
       "HBox(children=(FloatProgress(value=0.0, max=75341.0), HTML(value='')))"
      ]
     },
     "metadata": {},
     "output_type": "display_data"
    },
    {
     "name": "stdout",
     "output_type": "stream",
     "text": [
      "\n"
     ]
    }
   ],
   "source": [
    "s = 0\n",
    "y_pred_photo_mean = []\n",
    "y_pred_photo_max = []\n",
    "for n in tqdm(df_train[\"photo_num\"]):\n",
    "    if n>0:\n",
    "        y_pred_photo_mean.append(np.mean(y_pred[s:s+n]))\n",
    "        y_pred_photo_max.append(np.max(y_pred[s:s+n]))\n",
    "    else:\n",
    "        y_pred_photo_mean.append(np.mean(y_pred))\n",
    "        y_pred_photo_max.append(np.mean(y_pred))\n",
    "    s+=n\n",
    "df_train[\"photo_mean\"] = np.array(y_pred_photo_mean)\n",
    "df_train[\"photo_max\"] = np.array(y_pred_photo_max)"
   ]
  },
  {
   "cell_type": "code",
   "execution_count": 17,
   "metadata": {},
   "outputs": [
    {
     "data": {
      "application/vnd.jupyter.widget-view+json": {
       "model_id": "406604baa70e44f8bce5ff96e704491e",
       "version_major": 2,
       "version_minor": 0
      },
      "text/plain": [
       "HBox(children=(FloatProgress(value=0.0, max=15069.0), HTML(value='')))"
      ]
     },
     "metadata": {},
     "output_type": "display_data"
    },
    {
     "name": "stdout",
     "output_type": "stream",
     "text": [
      "\n"
     ]
    },
    {
     "data": {
      "application/vnd.jupyter.widget-view+json": {
       "model_id": "a12b2d1e43ac4e898b975a7dbd367920",
       "version_major": 2,
       "version_minor": 0
      },
      "text/plain": [
       "HBox(children=(FloatProgress(value=0.0, max=15069.0), HTML(value='')))"
      ]
     },
     "metadata": {},
     "output_type": "display_data"
    },
    {
     "name": "stdout",
     "output_type": "stream",
     "text": [
      "\n"
     ]
    }
   ],
   "source": [
    "X_test_images = []\n",
    "with Pool() as p:\n",
    "    imap=p.imap(getImage, df_test[\"id\"])\n",
    "    for photos in list(tqdm(imap, total=df_test.shape[0])):\n",
    "        for photo in photos:\n",
    "            X_test_images.append(photo)\n",
    "X_test_images = np.asarray(X_test_images, dtype=np.float32)/255\n",
    "    \n",
    "y_pred = predict(X_test_images, models)\n",
    "\n",
    "s = 0\n",
    "y_pred_photo_mean = []\n",
    "y_pred_photo_max = []\n",
    "for n in tqdm(df_test[\"photo_num\"]):\n",
    "    if n>0:\n",
    "        y_pred_photo_mean.append(np.mean(y_pred[s:s+n]))\n",
    "        y_pred_photo_max.append(np.max(y_pred[s:s+n]))\n",
    "    else:\n",
    "        y_pred_photo_mean.append(np.mean(y_pred))\n",
    "        y_pred_photo_max.append(np.mean(y_pred))\n",
    "    s+=n\n",
    "df_test[\"photo_mean\"] = np.array(y_pred_photo_mean)\n",
    "df_test[\"photo_max\"] = np.array(y_pred_photo_max)"
   ]
  },
  {
   "cell_type": "code",
   "execution_count": 18,
   "metadata": {},
   "outputs": [],
   "source": [
    "labels = [\"age\",\"photo_num\",\"bio_TheilSen\",\"bio_xgb\",\"bio_length\",\"bio_rf\",\"bio_mlp\",\"photo_mean\",\"photo_max\"]\n",
    "df2 = df_train[labels]\n",
    "df2_test = df_test[labels]"
   ]
  },
  {
   "cell_type": "code",
   "execution_count": 19,
   "metadata": {},
   "outputs": [],
   "source": [
    "df2[\"photo_mean\"] = df2[\"photo_mean\"].fillna(df2[\"photo_mean\"].mean())\n",
    "df2[\"photo_max\"] = df2[\"photo_max\"].fillna(df2[\"photo_max\"].mean())\n",
    "df2[\"age\"][df2[\"age\"]==\"undefined\"] = np.mean(df2[\"age\"][df2[\"age\"]!=\"undefined\"])\n",
    "df2 = df2.astype(np.float32)\n",
    "df2[\"age\"] = (df2[\"age\"]-18)/10\n",
    "df2[\"photo_num\"] = df2[\"photo_num\"]/6\n",
    "\n",
    "df2_test[\"photo_mean\"] = df2_test[\"photo_mean\"].fillna(df2[\"photo_mean\"].mean())\n",
    "df2_test[\"photo_max\"] = df2_test[\"photo_max\"].fillna(df2[\"photo_max\"].mean())\n",
    "df2_test[\"age\"][df2_test[\"age\"]==\"undefined\"] = np.mean(df2[\"age\"][df2[\"age\"]!=\"undefined\"])\n",
    "df2_test = df2_test.astype(np.float32)\n",
    "df2_test[\"age\"] = (df2_test[\"age\"]-18)/10\n",
    "df2_test[\"photo_num\"] = df2_test[\"photo_num\"]/6"
   ]
  },
  {
   "cell_type": "code",
   "execution_count": 24,
   "metadata": {},
   "outputs": [
    {
     "name": "stdout",
     "output_type": "stream",
     "text": [
      "[15:09:28] WARNING: /workspace/src/objective/regression_obj.cu:152: reg:linear is now deprecated in favor of reg:squarederror.\n",
      "0.5223074982884732\n",
      "[15:09:40] WARNING: /workspace/src/objective/regression_obj.cu:152: reg:linear is now deprecated in favor of reg:squarederror.\n",
      "0.6348033703653728\n",
      "[15:09:54] WARNING: /workspace/src/objective/regression_obj.cu:152: reg:linear is now deprecated in favor of reg:squarederror.\n",
      "0.6264735728985877\n",
      "[15:10:08] WARNING: /workspace/src/objective/regression_obj.cu:152: reg:linear is now deprecated in favor of reg:squarederror.\n",
      "0.6074538467574286\n",
      "[15:10:22] WARNING: /workspace/src/objective/regression_obj.cu:152: reg:linear is now deprecated in favor of reg:squarederror.\n",
      "0.5126755152270448\n"
     ]
    }
   ],
   "source": [
    "y_pred, clf = train(df2, y_train, xgb.XGBRegressor(max_depth=3, n_jobs=-1))\n",
    "sf[\"clf_final\"] = clf"
   ]
  },
  {
   "cell_type": "code",
   "execution_count": 25,
   "metadata": {},
   "outputs": [
    {
     "data": {
      "text/plain": [
       "0.570400152513389"
      ]
     },
     "execution_count": 25,
     "metadata": {},
     "output_type": "execute_result"
    }
   ],
   "source": [
    "roc_auc_score(y_train, y_pred)"
   ]
  },
  {
   "cell_type": "code",
   "execution_count": null,
   "metadata": {},
   "outputs": [],
   "source": []
  }
 ],
 "metadata": {
  "kernelspec": {
   "display_name": "Python 3",
   "language": "python",
   "name": "python3"
  },
  "language_info": {
   "codemirror_mode": {
    "name": "ipython",
    "version": 3
   },
   "file_extension": ".py",
   "mimetype": "text/x-python",
   "name": "python",
   "nbconvert_exporter": "python",
   "pygments_lexer": "ipython3",
   "version": "3.7.5"
  }
 },
 "nbformat": 4,
 "nbformat_minor": 2
}
